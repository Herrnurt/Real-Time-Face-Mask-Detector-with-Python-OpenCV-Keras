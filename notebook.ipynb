{
 "cells": [
  {
   "cell_type": "markdown",
   "metadata": {},
   "source": [
    "## Real-Time Face Mask Detector with Python, OpenCV, Keras\n"
   ]
  },
  {
   "cell_type": "markdown",
   "metadata": {},
   "source": [
    "I am going to build this project in two parts:\n",
    "\n",
    "1. In the first part, I will write a python script using Keras to train face mask detector model. \n",
    "\n",
    "2. In the second part, I  test the results in a real-time webcam using OpenCV.\n"
   ]
  },
  {
   "cell_type": "markdown",
   "metadata": {},
   "source": [
    "#### 1. Imports:\n",
    "Import all the libraries and modules required."
   ]
  },
  {
   "cell_type": "code",
   "execution_count": 1,
   "metadata": {},
   "outputs": [
    {
     "name": "stderr",
     "output_type": "stream",
     "text": [
      "Using TensorFlow backend.\n"
     ]
    }
   ],
   "source": [
    "from keras.optimizers import RMSprop\n",
    "from keras.preprocessing.image import ImageDataGenerator\n",
    "import cv2\n",
    "from keras.models import Sequential\n",
    "from keras.layers import Conv2D, Input, ZeroPadding2D, BatchNormalization, Activation, MaxPooling2D, Flatten, Dense,Dropout\n",
    "from keras.models import Model, load_model\n",
    "from keras.callbacks import TensorBoard, ModelCheckpoint\n",
    "from sklearn.model_selection import train_test_split\n",
    "from sklearn.metrics import f1_score\n",
    "from sklearn.utils import shuffle\n",
    "import imutils\n",
    "import numpy as np"
   ]
  },
  {
   "cell_type": "markdown",
   "metadata": {},
   "source": [
    "#### 2. Build the neural network:\n",
    "\n",
    "This convolution network consists of two pairs of Conv and MaxPool layers to extract features from the dataset.\n",
    "Which is then followed by a Flatten and Dropout layer to convert the data in 1D and ensure overfitting.\n",
    "\n",
    "And then two Dense layers for classification."
   ]
  },
  {
   "cell_type": "code",
   "execution_count": 2,
   "metadata": {},
   "outputs": [],
   "source": [
    "model = Sequential([\n",
    "    Conv2D(100, (3,3), activation='relu', input_shape=(224, 224, 3)),\n",
    "    MaxPooling2D(2,2),\n",
    "    \n",
    "    Conv2D(100, (3,3), activation='relu'),\n",
    "    MaxPooling2D(2,2),\n",
    "    \n",
    "    Flatten(),\n",
    "    Dropout(0.5),\n",
    "    Dense(50, activation='relu'),\n",
    "    Dense(2, activation='softmax')\n",
    "])\n",
    "model.compile(optimizer='adam', loss='binary_crossentropy', metrics=['acc'])\n"
   ]
  },
  {
   "cell_type": "markdown",
   "metadata": {},
   "source": [
    "#### 3. Image Data Generation/Augmentation:"
   ]
  },
  {
   "cell_type": "code",
   "execution_count": 3,
   "metadata": {},
   "outputs": [
    {
     "name": "stdout",
     "output_type": "stream",
     "text": [
      "Found 1315 images belonging to 2 classes.\n",
      "Found 211 images belonging to 2 classes.\n"
     ]
    }
   ],
   "source": [
    "TRAINING_DIR = \"Dataset/train\"\n",
    "train_datagen = ImageDataGenerator(rescale=1.0/255,\n",
    "                                   rotation_range=40,\n",
    "                                   width_shift_range=0.2,\n",
    "                                   height_shift_range=0.2,\n",
    "                                   shear_range=0.2,\n",
    "                                   zoom_range=0.2,\n",
    "                                   horizontal_flip=True,\n",
    "                                   fill_mode='nearest')\n",
    "\n",
    "train_generator = train_datagen.flow_from_directory(TRAINING_DIR, \n",
    "                                                    batch_size=10, \n",
    "                                                    target_size=(224, 224))\n",
    "VALIDATION_DIR = \"Dataset/test\"\n",
    "validation_datagen = ImageDataGenerator(rescale=1.0/255)\n",
    "\n",
    "validation_generator = validation_datagen.flow_from_directory(VALIDATION_DIR, \n",
    "                                                         batch_size=10, \n",
    "                                                         target_size=(224, 224))"
   ]
  },
  {
   "cell_type": "markdown",
   "metadata": {},
   "source": [
    "#### 4. Initialize a callback checkpoint to keep saving best model after each epoch while training:"
   ]
  },
  {
   "cell_type": "code",
   "execution_count": 4,
   "metadata": {},
   "outputs": [],
   "source": [
    "checkpoint = ModelCheckpoint('model2-{epoch:03d}.model',monitor='val_loss',verbose=0,save_best_only=True,mode='auto')"
   ]
  },
  {
   "cell_type": "markdown",
   "metadata": {},
   "source": [
    "#### 5. Train the model:"
   ]
  },
  {
   "cell_type": "code",
   "execution_count": 5,
   "metadata": {},
   "outputs": [
    {
     "name": "stdout",
     "output_type": "stream",
     "text": [
      "Epoch 1/10\n",
      "132/132 [==============================] - 353s 3s/step - loss: 0.6300 - acc: 0.7118 - val_loss: 0.0352 - val_acc: 0.8626\n",
      "Epoch 2/10\n",
      "132/132 [==============================] - 356s 3s/step - loss: 0.3315 - acc: 0.8639 - val_loss: 0.0627 - val_acc: 0.9431\n",
      "Epoch 3/10\n",
      "132/132 [==============================] - 432s 3s/step - loss: 0.2531 - acc: 0.8981 - val_loss: 0.0339 - val_acc: 0.9242\n",
      "Epoch 4/10\n",
      "132/132 [==============================] - 428s 3s/step - loss: 0.2379 - acc: 0.9065 - val_loss: 0.0069 - val_acc: 0.9526\n",
      "Epoch 5/10\n",
      "132/132 [==============================] - 448s 3s/step - loss: 0.2305 - acc: 0.9156 - val_loss: 4.8959e-04 - val_acc: 0.9668\n",
      "Epoch 6/10\n",
      "132/132 [==============================] - 442s 3s/step - loss: 0.2144 - acc: 0.9118 - val_loss: 0.0426 - val_acc: 0.9668\n",
      "Epoch 7/10\n",
      "132/132 [==============================] - 441s 3s/step - loss: 0.1942 - acc: 0.9285 - val_loss: 0.0069 - val_acc: 0.9858\n",
      "Epoch 8/10\n",
      "132/132 [==============================] - 931s 7s/step - loss: 0.1676 - acc: 0.9331 - val_loss: 0.0095 - val_acc: 0.9858\n",
      "Epoch 9/10\n",
      "132/132 [==============================] - 947s 7s/step - loss: 0.1990 - acc: 0.9217 - val_loss: 0.0018 - val_acc: 0.9858\n",
      "Epoch 10/10\n",
      "132/132 [==============================] - 497s 4s/step - loss: 0.1672 - acc: 0.9369 - val_loss: 1.3221e-04 - val_acc: 0.9858\n"
     ]
    }
   ],
   "source": [
    "history = model.fit_generator(train_generator,\n",
    "                              epochs=10,\n",
    "                              validation_data=validation_generator,\n",
    "                              callbacks=[checkpoint])"
   ]
  },
  {
   "cell_type": "code",
   "execution_count": 6,
   "metadata": {},
   "outputs": [],
   "source": [
    "#To save the trained model\n",
    "model.save('mask_recog_ver1.h5')"
   ]
  },
  {
   "cell_type": "code",
   "execution_count": null,
   "metadata": {},
   "outputs": [],
   "source": []
  }
 ],
 "metadata": {
  "kernelspec": {
   "display_name": "Python 3",
   "language": "python",
   "name": "python3"
  },
  "language_info": {
   "codemirror_mode": {
    "name": "ipython",
    "version": 3
   },
   "file_extension": ".py",
   "mimetype": "text/x-python",
   "name": "python",
   "nbconvert_exporter": "python",
   "pygments_lexer": "ipython3",
   "version": "3.7.7"
  }
 },
 "nbformat": 4,
 "nbformat_minor": 4
}
